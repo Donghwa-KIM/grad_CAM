{
 "cells": [
  {
   "cell_type": "markdown",
   "metadata": {},
   "source": [
    "# Decorators: reference"
   ]
  },
  {
   "cell_type": "code",
   "execution_count": 12,
   "metadata": {},
   "outputs": [],
   "source": [
    "def succ(x):\n",
    "    return x+1"
   ]
  },
  {
   "cell_type": "code",
   "execution_count": 13,
   "metadata": {},
   "outputs": [
    {
     "data": {
      "text/plain": [
       "<function __main__.succ(x)>"
      ]
     },
     "execution_count": 13,
     "metadata": {},
     "output_type": "execute_result"
    }
   ],
   "source": [
    "succ"
   ]
  },
  {
   "cell_type": "code",
   "execution_count": 14,
   "metadata": {},
   "outputs": [
    {
     "data": {
      "text/plain": [
       "11"
      ]
     },
     "execution_count": 14,
     "metadata": {},
     "output_type": "execute_result"
    }
   ],
   "source": [
    "successor = succ\n",
    "successor(10)"
   ]
  },
  {
   "cell_type": "code",
   "execution_count": 19,
   "metadata": {},
   "outputs": [
    {
     "name": "stdout",
     "output_type": "stream",
     "text": [
      "This is the function 'f'\n",
      "I am calling 'g' now:\n",
      "Hi, it's me 'g'\n",
      "Thanks for calling me\n"
     ]
    }
   ],
   "source": [
    "def f():\n",
    "    \n",
    "    def g():\n",
    "        print(\"Hi, it's me 'g'\") # 3\n",
    "        print(\"Thanks for calling me\") # 4\n",
    "        \n",
    "    print(\"This is the function 'f'\") # 1\n",
    "    print(\"I am calling 'g' now:\") # 2\n",
    "    g()\n",
    "\n",
    "    \n",
    "f()"
   ]
  },
  {
   "cell_type": "code",
   "execution_count": 15,
   "metadata": {},
   "outputs": [
    {
     "data": {
      "text/plain": [
       "11"
      ]
     },
     "execution_count": 15,
     "metadata": {},
     "output_type": "execute_result"
    }
   ],
   "source": [
    "succ(10)"
   ]
  },
  {
   "cell_type": "markdown",
   "metadata": {},
   "source": [
    "- succ 함수와 successor 함수는 같은 함수임"
   ]
  },
  {
   "cell_type": "code",
   "execution_count": 16,
   "metadata": {},
   "outputs": [
    {
     "data": {
      "text/plain": [
       "True"
      ]
     },
     "execution_count": 16,
     "metadata": {},
     "output_type": "execute_result"
    }
   ],
   "source": [
    "successor == succ"
   ]
  },
  {
   "cell_type": "markdown",
   "metadata": {},
   "source": [
    "- succ 함수를 지워져도 successor 함수는 지워지지 않음"
   ]
  },
  {
   "cell_type": "code",
   "execution_count": 17,
   "metadata": {},
   "outputs": [],
   "source": [
    "del succ"
   ]
  },
  {
   "cell_type": "markdown",
   "metadata": {},
   "source": [
    "---"
   ]
  },
  {
   "cell_type": "markdown",
   "metadata": {},
   "source": [
    "- case 1 : 함수안에 함수"
   ]
  },
  {
   "cell_type": "markdown",
   "metadata": {},
   "source": [
    "실행순서: $f() -> g()$"
   ]
  },
  {
   "cell_type": "code",
   "execution_count": 18,
   "metadata": {},
   "outputs": [
    {
     "data": {
      "text/plain": [
       "<function __main__.succ(x)>"
      ]
     },
     "execution_count": 18,
     "metadata": {},
     "output_type": "execute_result"
    }
   ],
   "source": [
    "successor"
   ]
  },
  {
   "cell_type": "code",
   "execution_count": 20,
   "metadata": {},
   "outputs": [
    {
     "name": "stdout",
     "output_type": "stream",
     "text": [
      "It's 68.0 degrees!\n"
     ]
    }
   ],
   "source": [
    "def temperature(t):\n",
    "    def celsius2fahrenheit(x):\n",
    "        return 9 * x / 5 + 32\n",
    "\n",
    "    result = \"It's \" + str(celsius2fahrenheit(t)) + \" degrees!\" \n",
    "    return result\n",
    "\n",
    "print(temperature(20))"
   ]
  },
  {
   "cell_type": "markdown",
   "metadata": {},
   "source": [
    "---"
   ]
  },
  {
   "cell_type": "markdown",
   "metadata": {},
   "source": [
    "- case 2: 함수안에 함수를 인자로 입력\n",
    "    - f(함수)"
   ]
  },
  {
   "cell_type": "code",
   "execution_count": 21,
   "metadata": {},
   "outputs": [
    {
     "name": "stdout",
     "output_type": "stream",
     "text": [
      "Hi, it's me 'f'\n",
      "I will call 'func' now\n",
      "Hi, it's me 'g'\n",
      "Thanks for calling me\n"
     ]
    }
   ],
   "source": [
    "def g():\n",
    "    print(\"Hi, it's me 'g'\")\n",
    "    print(\"Thanks for calling me\")\n",
    "    \n",
    "def f(func):\n",
    "    print(\"Hi, it's me 'f'\")\n",
    "    print(\"I will call 'func' now\")\n",
    "    func()\n",
    "          \n",
    "f(g)"
   ]
  },
  {
   "cell_type": "code",
   "execution_count": 22,
   "metadata": {},
   "outputs": [
    {
     "name": "stdout",
     "output_type": "stream",
     "text": [
      "The function sin was passed to foo\n",
      "2.3492405557375347\n",
      "The function cos was passed to foo\n",
      "-0.6769881462259364\n"
     ]
    }
   ],
   "source": [
    "import math\n",
    "\n",
    "def foo(func):\n",
    "    print(\"The function \" + func.__name__ + \" was passed to foo\")\n",
    "    res = 0\n",
    "    for x in [1, 2, 2.5]:\n",
    "        res += func(x)\n",
    "    return res\n",
    "\n",
    "print(foo(math.sin))\n",
    "print(foo(math.cos))"
   ]
  },
  {
   "cell_type": "markdown",
   "metadata": {},
   "source": [
    "---"
   ]
  },
  {
   "cell_type": "markdown",
   "metadata": {},
   "source": [
    "- case 3: 함수가 함수를 return하는 경우"
   ]
  },
  {
   "cell_type": "code",
   "execution_count": 28,
   "metadata": {},
   "outputs": [
    {
     "name": "stdout",
     "output_type": "stream",
     "text": [
      "<function f.<locals>.g at 0x10478d268>\n",
      "<function f.<locals>.g at 0x1044708c8>\n"
     ]
    }
   ],
   "source": [
    "def f(x):\n",
    "    def g(y):\n",
    "        return y + x + 3 \n",
    "    return g\n",
    "\n",
    "nf1 = f(1)\n",
    "nf2 = f(3)\n",
    "\n",
    "print(nf1)\n",
    "print(nf2)"
   ]
  },
  {
   "cell_type": "code",
   "execution_count": 29,
   "metadata": {},
   "outputs": [
    {
     "name": "stdout",
     "output_type": "stream",
     "text": [
      "5\n",
      "7\n"
     ]
    }
   ],
   "source": [
    "print(nf1(1))\n",
    "print(nf2(1))"
   ]
  },
  {
   "cell_type": "markdown",
   "metadata": {},
   "source": [
    "---"
   ]
  },
  {
   "cell_type": "markdown",
   "metadata": {},
   "source": [
    "- Decorator 예제"
   ]
  },
  {
   "cell_type": "code",
   "execution_count": 69,
   "metadata": {},
   "outputs": [
    {
     "name": "stdout",
     "output_type": "stream",
     "text": [
      "We call foo before decoration:\n",
      "Hi, foo has been called with Hi\n",
      "We now decorate foo with f:\n",
      "We call foo after decoration:\n",
      "Before calling foo\n",
      "Hi, foo has been called with 42\n",
      "After calling foo\n"
     ]
    }
   ],
   "source": [
    "def our_decorator(func):\n",
    "    def function_wrapper(x):\n",
    "        print(\"Before calling \" + func.__name__)\n",
    "        func(x)\n",
    "        print(\"After calling \" + func.__name__)\n",
    "    return function_wrapper\n",
    "\n",
    "def foo(x):\n",
    "    print(\"Hi, foo has been called with \" + str(x))\n",
    "    return str(x)\n",
    "\n",
    "print(\"We call foo before decoration:\")\n",
    "foo(\"Hi\")\n",
    "    \n",
    "print(\"We now decorate foo with f:\")\n",
    "foo = our_decorator(foo)\n",
    "\n",
    "print(\"We call foo after decoration:\")\n",
    "foo(42)"
   ]
  },
  {
   "cell_type": "markdown",
   "metadata": {},
   "source": [
    "- decorator는 함수를 입력으로 받아 함수를 반환한다.\n",
    "- 그렇게 새롭게 생긴 함수는 "
   ]
  },
  {
   "cell_type": "code",
   "execution_count": 70,
   "metadata": {},
   "outputs": [
    {
     "name": "stdout",
     "output_type": "stream",
     "text": [
      "Before calling foo\n",
      "Hi, foo has been called with Hi\n",
      "After calling foo\n"
     ]
    }
   ],
   "source": [
    "def our_decorator(func):\n",
    "    def function_wrapper(x):\n",
    "        print(\"Before calling \" + func.__name__)\n",
    "        func(x)\n",
    "        print(\"After calling \" + func.__name__)\n",
    "    return function_wrapper\n",
    "\n",
    "@our_decorator # \n",
    "def foo(x):\n",
    "    print(\"Hi, foo has been called with \" + str(x))\n",
    "foo(\"Hi\")"
   ]
  },
  {
   "cell_type": "code",
   "execution_count": 71,
   "metadata": {},
   "outputs": [
    {
     "name": "stdout",
     "output_type": "stream",
     "text": [
      "Before calling succ\n",
      "11\n",
      "After calling succ\n"
     ]
    }
   ],
   "source": [
    "def our_decorator(func):\n",
    "    def function_wrapper(x):\n",
    "        print(\"Before calling \" + func.__name__)\n",
    "        res = func(x)\n",
    "        print(res)\n",
    "        print(\"After calling \" + func.__name__)\n",
    "    return function_wrapper\n",
    "\n",
    "@our_decorator\n",
    "def succ(n):\n",
    "    return n + 1\n",
    "\n",
    "succ(10)"
   ]
  },
  {
   "cell_type": "code",
   "execution_count": 74,
   "metadata": {},
   "outputs": [],
   "source": [
    "from math import sin\n",
    "\n",
    "def our_decorator(func):\n",
    "    def function_wrapper(x):\n",
    "        print(\"Before calling \" + func.__name__)\n",
    "        res = func(x)\n",
    "        print(res)\n",
    "        print(\"After calling \" + func.__name__)\n",
    "    return function_wrapper\n",
    "\n",
    "sin = our_decorator(sin)\n"
   ]
  },
  {
   "cell_type": "code",
   "execution_count": 75,
   "metadata": {},
   "outputs": [
    {
     "name": "stdout",
     "output_type": "stream",
     "text": [
      "Before calling sin\n",
      "9.265358966049024e-05\n",
      "After calling sin\n"
     ]
    }
   ],
   "source": [
    "sin(3.1415)"
   ]
  },
  {
   "cell_type": "code",
   "execution_count": 91,
   "metadata": {},
   "outputs": [
    {
     "data": {
      "text/plain": [
       "6"
      ]
     },
     "execution_count": 91,
     "metadata": {},
     "output_type": "execute_result"
    }
   ],
   "source": [
    "def argument_test_natural_number(f):\n",
    "    def helper(x):\n",
    "        if type(x) == int and x > 0:\n",
    "            return f(x)\n",
    "        else:\n",
    "            raise Exception(\"Argument is not an integer\")\n",
    "    return helper\n",
    "    \n",
    "@argument_test_natural_number\n",
    "def factorial(n):\n",
    "    if n == 1:\n",
    "        return 1\n",
    "    else:\n",
    "        return n * factorial(n-1)\n",
    "\n",
    "\n",
    "\n",
    "factorial(3)"
   ]
  },
  {
   "cell_type": "markdown",
   "metadata": {},
   "source": [
    "#  call로 value 저장하는 방법 "
   ]
  },
  {
   "cell_type": "code",
   "execution_count": 92,
   "metadata": {},
   "outputs": [
    {
     "name": "stdout",
     "output_type": "stream",
     "text": [
      "0\n",
      "10\n"
     ]
    }
   ],
   "source": [
    "def call_counter(func):\n",
    "    def helper(x):\n",
    "        helper.calls += 1\n",
    "        return func(x)\n",
    "    helper.calls = 0\n",
    "\n",
    "    return helper\n",
    "\n",
    "@call_counter\n",
    "def succ(x):\n",
    "    return x + 1\n",
    "\n",
    "print(succ.calls)\n",
    "for i in range(10):\n",
    "    succ(i)\n",
    "    \n",
    "print(succ.calls)"
   ]
  },
  {
   "cell_type": "markdown",
   "metadata": {},
   "source": [
    "---"
   ]
  },
  {
   "cell_type": "markdown",
   "metadata": {},
   "source": [
    "- class 활용하여 decorate"
   ]
  },
  {
   "cell_type": "markdown",
   "metadata": {},
   "source": [
    "- 함수 대신 클래스\n",
    "- __call__ instance를 다시 함수로 선언해주는 역할을 해준다"
   ]
  },
  {
   "cell_type": "code",
   "execution_count": 101,
   "metadata": {},
   "outputs": [
    {
     "name": "stdout",
     "output_type": "stream",
     "text": [
      "An instance of A was initialized\n",
      "now calling the instance:\n",
      "Arguments are: {'x': 11, 'y': 10} (3, 4, 5)\n",
      "Let's call it again:\n",
      "Arguments are: {'x': 11, 'y': 10} (3, 4)\n"
     ]
    }
   ],
   "source": [
    "class A:\n",
    "    \n",
    "    def __init__(self):\n",
    "        print(\"An instance of A was initialized\")\n",
    "    \n",
    "    def __call__(self, *args, **kwargs):\n",
    "        print(\"Arguments are:\", kwargs,args )\n",
    "              \n",
    "x = A()\n",
    "print(\"now calling the instance:\")\n",
    "x(3, 4, 5 , x=11, y=10)\n",
    "print(\"Let's call it again:\")\n",
    "x(3, 4, x=11, y=10)"
   ]
  },
  {
   "cell_type": "markdown",
   "metadata": {},
   "source": [
    "---"
   ]
  },
  {
   "cell_type": "code",
   "execution_count": 112,
   "metadata": {},
   "outputs": [
    {
     "data": {
      "text/plain": [
       "{}"
      ]
     },
     "execution_count": 112,
     "metadata": {},
     "output_type": "execute_result"
    }
   ],
   "source": [
    "class Fibonacci:\n",
    "\n",
    "    def __init__(self):\n",
    "        self.cache = {}\n",
    "tmp = Fibonacci()\n",
    "tmp.cache"
   ]
  },
  {
   "cell_type": "code",
   "execution_count": 113,
   "metadata": {},
   "outputs": [
    {
     "name": "stdout",
     "output_type": "stream",
     "text": [
      "Decorating foo\n",
      "inside foo()\n"
     ]
    }
   ],
   "source": [
    "def decorator1(f):\n",
    "    def helper():\n",
    "        print(\"Decorating\", f.__name__)\n",
    "        f()\n",
    "    return helper\n",
    "\n",
    "@decorator1\n",
    "def foo():\n",
    "    print(\"inside foo()\")\n",
    "\n",
    "foo()"
   ]
  },
  {
   "cell_type": "code",
   "execution_count": 131,
   "metadata": {},
   "outputs": [
    {
     "name": "stdout",
     "output_type": "stream",
     "text": [
      "Decorating foo\n",
      "inside foo()\n"
     ]
    }
   ],
   "source": [
    "class decorator2:\n",
    "    \n",
    "    def __init__(self, f):\n",
    "        self.f = f\n",
    "        \n",
    "    def __call__(self):\n",
    "        print(\"Decorating\", self.f.__name__)\n",
    "        self.f() # \"inside foo()\"\n",
    "\n",
    "@decorator2\n",
    "def foo():\n",
    "    print(\"inside foo()\")\n",
    "\n",
    "foo()"
   ]
  }
 ],
 "metadata": {
  "kernelspec": {
   "display_name": "Python 3",
   "language": "python",
   "name": "python3"
  },
  "language_info": {
   "codemirror_mode": {
    "name": "ipython",
    "version": 3
   },
   "file_extension": ".py",
   "mimetype": "text/x-python",
   "name": "python",
   "nbconvert_exporter": "python",
   "pygments_lexer": "ipython3",
   "version": "3.6.2"
  }
 },
 "nbformat": 4,
 "nbformat_minor": 2
}
