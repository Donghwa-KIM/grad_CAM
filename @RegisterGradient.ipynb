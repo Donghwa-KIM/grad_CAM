{
 "cells": [
  {
   "cell_type": "code",
   "execution_count": 1,
   "metadata": {},
   "outputs": [],
   "source": [
    "import tensorflow as tf\n",
    "from tensorflow.python.framework import ops # for gradient\n",
    "from tensorflow.python.ops import gen_nn_ops # compute gradient"
   ]
  },
  {
   "cell_type": "markdown",
   "metadata": {},
   "source": [
    "- op: 학습되는 train_op(output)\n",
    "- gradient > 0인 값들에 grad 산출"
   ]
  },
  {
   "cell_type": "markdown",
   "metadata": {},
   "source": [
    "- decorator(@ops.RegisterGradient): 함수(_GuidedReluGrad)를 입력으로 받아 특정 함수(function)를 반환함\n",
    "- 아래의 function은 사용자가 직접 정의한 op로 'Relu'와 바꿀 op가 됨"
   ]
  },
  {
   "cell_type": "markdown",
   "metadata": {},
   "source": [
    "```python\n",
    "def ops.RegisterGradient(\"GuidedRelu\"):\n",
    "    def function()...\n",
    "        # something\n",
    "        _GuidedReluGrad(op, grad):\n",
    "        # something\n",
    "        return function            \n",
    "```"
   ]
  },
  {
   "cell_type": "code",
   "execution_count": 3,
   "metadata": {},
   "outputs": [],
   "source": [
    "tf.reset_default_graph()"
   ]
  },
  {
   "cell_type": "code",
   "execution_count": 8,
   "metadata": {},
   "outputs": [
    {
     "data": {
      "text/plain": [
       "<tf.Tensor 'features:0' shape=(3, 3) dtype=float32>"
      ]
     },
     "execution_count": 8,
     "metadata": {},
     "output_type": "execute_result"
    }
   ],
   "source": [
    "feature_out = tf.constant([[1,-1,5],[2,-5,-7],[-3,2,4]], dtype=tf.float32, name ='features')\n",
    "feature_out"
   ]
  },
  {
   "cell_type": "code",
   "execution_count": 9,
   "metadata": {},
   "outputs": [
    {
     "data": {
      "text/plain": [
       "<tf.Tensor 'gradients:0' shape=(3, 3) dtype=float32>"
      ]
     },
     "execution_count": 9,
     "metadata": {},
     "output_type": "execute_result"
    }
   ],
   "source": [
    "grad = tf.constant([[-2,3,-1],[6,-3,1],[2,-1,3]], dtype=tf.float32, name ='gradients')\n",
    "grad"
   ]
  },
  {
   "cell_type": "code",
   "execution_count": 12,
   "metadata": {},
   "outputs": [],
   "source": [
    "# feature output > 0\n",
    "BackpropRelu = gen_nn_ops.relu_grad(grad, feature_out)\n",
    "\n",
    "# grad > 0\n",
    "DeconvRelu = tf.where(0. < grad, grad, tf.zeros(grad.get_shape()))\n",
    "\n",
    "# (feature output > 0 & grad > 0)\n",
    "GuidedReluGrad  = tf.where(0. < grad, gen_nn_ops.relu_grad(grad, feature_out), tf.zeros(grad.get_shape()))"
   ]
  },
  {
   "cell_type": "code",
   "execution_count": 17,
   "metadata": {},
   "outputs": [
    {
     "name": "stdout",
     "output_type": "stream",
     "text": [
      "BackpropRelu: \n",
      " [[-2.  0. -1.]\n",
      " [ 6. -0.  0.]\n",
      " [ 0. -1.  3.]]\n",
      "DeconvRelu: \n",
      " [[0. 3. 0.]\n",
      " [6. 0. 1.]\n",
      " [2. 0. 3.]]\n",
      "GuidedReluGrad: \n",
      " [[0. 0. 0.]\n",
      " [6. 0. 0.]\n",
      " [0. 0. 3.]]\n"
     ]
    }
   ],
   "source": [
    "sess = tf.InteractiveSession()\n",
    "print('BackpropRelu: \\n',BackpropRelu.eval())\n",
    "print('DeconvRelu: \\n',DeconvRelu.eval())\n",
    "print('GuidedReluGrad: \\n',GuidedReluGrad.eval())"
   ]
  },
  {
   "cell_type": "markdown",
   "metadata": {},
   "source": [
    "```python\n",
    "@ops.RegisterGradient(\"BackpropRelu\")\n",
    "def _BackpropRelu(unused_op, grad):\n",
    "    return gen_nn_ops.relu_grad(grad, unused_op.outputs[0])\n",
    "\n",
    "@ops.RegisterGradient(\"DeconvRelu\")\n",
    "def _DeconvRelu(unused_op, grad):\n",
    "    return tf.where(0. < grad, grad, tf.zeros(tf.shape(grad)))\n",
    "\n",
    "@ops.RegisterGradient(\"GuidedRelu\")\n",
    "def _GuidedReluGrad(unused_op, grad):\n",
    "    return tf.where(0. < grad, gen_nn_ops.relu_grad(grad, unused_op.outputs[0]),\n",
    "                    tf.zeros(tf.shape(grad)))\n",
    "\n",
    "```"
   ]
  },
  {
   "cell_type": "markdown",
   "metadata": {},
   "source": [
    "```python\n",
    "    g = tf.get_default_graph()\n",
    "    with g.gradient_override_map({\"Relu\": \"<method>\"}):\n",
    "        ...graph...\n",
    "```"
   ]
  }
 ],
 "metadata": {
  "kernelspec": {
   "display_name": "Python 3",
   "language": "python",
   "name": "python3"
  },
  "language_info": {
   "codemirror_mode": {
    "name": "ipython",
    "version": 3
   },
   "file_extension": ".py",
   "mimetype": "text/x-python",
   "name": "python",
   "nbconvert_exporter": "python",
   "pygments_lexer": "ipython3",
   "version": "3.6.2"
  }
 },
 "nbformat": 4,
 "nbformat_minor": 2
}
